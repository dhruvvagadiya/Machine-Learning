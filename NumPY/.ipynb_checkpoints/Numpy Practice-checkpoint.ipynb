{
 "cells": [
  {
   "cell_type": "code",
   "execution_count": 1,
   "id": "23aefc3b-ce40-493e-9ca1-dc29f09fcd00",
   "metadata": {},
   "outputs": [],
   "source": [
    "import numpy as np"
   ]
  },
  {
   "cell_type": "code",
   "execution_count": 2,
   "id": "cf296650",
   "metadata": {},
   "outputs": [],
   "source": [
    "my_list = [1, 2, 3]"
   ]
  },
  {
   "cell_type": "code",
   "execution_count": 3,
   "id": "ed9d4dae",
   "metadata": {},
   "outputs": [],
   "source": [
    "arr = np.array(my_list)"
   ]
  },
  {
   "cell_type": "code",
   "execution_count": 4,
   "id": "76840190",
   "metadata": {},
   "outputs": [
    {
     "data": {
      "text/plain": [
       "array([1, 2, 3])"
      ]
     },
     "execution_count": 4,
     "metadata": {},
     "output_type": "execute_result"
    }
   ],
   "source": [
    "arr"
   ]
  },
  {
   "cell_type": "code",
   "execution_count": 5,
   "id": "d8cf269c",
   "metadata": {},
   "outputs": [],
   "source": [
    "d2_arr = [[1,2,3], [4,5,6]]"
   ]
  },
  {
   "cell_type": "code",
   "execution_count": 7,
   "id": "60d823a2-3e77-4108-90d9-1e632ffff5f6",
   "metadata": {},
   "outputs": [],
   "source": [
    "arr = np.array(d2_arr)"
   ]
  },
  {
   "cell_type": "code",
   "execution_count": 9,
   "id": "b3258bb0-6015-4ac4-96c8-ec98b4db0eff",
   "metadata": {},
   "outputs": [
    {
     "data": {
      "text/plain": [
       "array([[1, 2, 3],\n",
       "       [4, 5, 6]])"
      ]
     },
     "execution_count": 9,
     "metadata": {},
     "output_type": "execute_result"
    }
   ],
   "source": [
    "arr"
   ]
  },
  {
   "cell_type": "code",
   "execution_count": 11,
   "id": "d16a608f-d26f-4b3d-8d38-5405d9f696f4",
   "metadata": {},
   "outputs": [
    {
     "data": {
      "text/plain": [
       "(2, 3)"
      ]
     },
     "execution_count": 11,
     "metadata": {},
     "output_type": "execute_result"
    }
   ],
   "source": [
    "arr.shape"
   ]
  },
  {
   "cell_type": "code",
   "execution_count": 13,
   "id": "2930cc09-198e-4dd3-9ab2-11b0547ff033",
   "metadata": {},
   "outputs": [
    {
     "data": {
      "text/plain": [
       "array([1, 2, 3, 4, 5, 6, 7, 8, 9])"
      ]
     },
     "execution_count": 13,
     "metadata": {},
     "output_type": "execute_result"
    }
   ],
   "source": [
    "np.arange(1,10)"
   ]
  },
  {
   "cell_type": "code",
   "execution_count": 15,
   "id": "9ba652d8-d2f9-42e5-92b5-5a72eefbb562",
   "metadata": {},
   "outputs": [
    {
     "data": {
      "text/plain": [
       "array([1, 3, 5, 7, 9])"
      ]
     },
     "execution_count": 15,
     "metadata": {},
     "output_type": "execute_result"
    }
   ],
   "source": [
    "np.arange(1,10,2)"
   ]
  },
  {
   "cell_type": "code",
   "execution_count": 17,
   "id": "cbaa8d68-569b-4900-8c4c-3081f5fc054d",
   "metadata": {},
   "outputs": [
    {
     "data": {
      "text/plain": [
       "array([0., 0., 0., 0., 0., 0., 0., 0., 0., 0.])"
      ]
     },
     "execution_count": 17,
     "metadata": {},
     "output_type": "execute_result"
    }
   ],
   "source": [
    "np.zeros(10)"
   ]
  },
  {
   "cell_type": "code",
   "execution_count": 19,
   "id": "69fec466-e164-485c-93d0-6be6fc3f3339",
   "metadata": {},
   "outputs": [
    {
     "data": {
      "text/plain": [
       "array([[0., 0., 0., 0., 0.],\n",
       "       [0., 0., 0., 0., 0.]])"
      ]
     },
     "execution_count": 19,
     "metadata": {},
     "output_type": "execute_result"
    }
   ],
   "source": [
    "np.zeros((2,5))"
   ]
  },
  {
   "cell_type": "code",
   "execution_count": 25,
   "id": "e26fb186-a6ee-4e6a-b5f6-10a42e3badd4",
   "metadata": {},
   "outputs": [
    {
     "data": {
      "text/plain": [
       "array([[ 1,  2,  3,  4,  5],\n",
       "       [ 6,  7,  8,  9, 10]])"
      ]
     },
     "execution_count": 25,
     "metadata": {},
     "output_type": "execute_result"
    }
   ],
   "source": [
    "np.arange(1,11).reshape(2,5)"
   ]
  },
  {
   "cell_type": "code",
   "execution_count": 31,
   "id": "f059b35c-9d18-4714-80ae-1f2d7b9e8ab3",
   "metadata": {},
   "outputs": [
    {
     "data": {
      "text/plain": [
       "array([ 1.  ,  3.25,  5.5 ,  7.75, 10.  ])"
      ]
     },
     "execution_count": 31,
     "metadata": {},
     "output_type": "execute_result"
    }
   ],
   "source": [
    "np.linspace(1,10, 5)"
   ]
  },
  {
   "cell_type": "code",
   "execution_count": 33,
   "id": "b52d5512-7602-4c06-8b40-5b44ea706f65",
   "metadata": {},
   "outputs": [
    {
     "data": {
      "text/plain": [
       "array([[1., 0., 0., 0., 0.],\n",
       "       [0., 1., 0., 0., 0.],\n",
       "       [0., 0., 1., 0., 0.],\n",
       "       [0., 0., 0., 1., 0.],\n",
       "       [0., 0., 0., 0., 1.]])"
      ]
     },
     "execution_count": 33,
     "metadata": {},
     "output_type": "execute_result"
    }
   ],
   "source": [
    "np.eye(5)"
   ]
  },
  {
   "cell_type": "code",
   "execution_count": 35,
   "id": "a191b440-a9f9-45d2-ae27-db7793099467",
   "metadata": {},
   "outputs": [
    {
     "data": {
      "text/plain": [
       "array([0.83565266, 0.45852883, 0.38691524, 0.09368636, 0.65237424])"
      ]
     },
     "execution_count": 35,
     "metadata": {},
     "output_type": "execute_result"
    }
   ],
   "source": [
    "np.random.rand(5)"
   ]
  },
  {
   "cell_type": "code",
   "execution_count": 37,
   "id": "2117b6b4-9cdd-42b3-9582-cb044018232c",
   "metadata": {},
   "outputs": [
    {
     "data": {
      "text/plain": [
       "array([[0.58818328, 0.79498846, 0.96887367, 0.0598749 , 0.70167487,\n",
       "        0.84899581],\n",
       "       [0.61949764, 0.0446825 , 0.91296458, 0.6980782 , 0.06014843,\n",
       "        0.28967458],\n",
       "       [0.3926174 , 0.63105709, 0.79666293, 0.28480619, 0.98636564,\n",
       "        0.98697526],\n",
       "       [0.37615522, 0.2822677 , 0.94889691, 0.07351134, 0.90314967,\n",
       "        0.80942023],\n",
       "       [0.15190852, 0.40424327, 0.82990912, 0.37512465, 0.26154808,\n",
       "        0.31861708],\n",
       "       [0.29129485, 0.52221815, 0.15620667, 0.08026969, 0.33067849,\n",
       "        0.50876161],\n",
       "       [0.08723125, 0.18451954, 0.48187402, 0.81316911, 0.65526789,\n",
       "        0.03413474]])"
      ]
     },
     "execution_count": 37,
     "metadata": {},
     "output_type": "execute_result"
    }
   ],
   "source": [
    "np.random.rand(7,6)"
   ]
  },
  {
   "cell_type": "code",
   "execution_count": 43,
   "id": "c248ee7e-282f-42f4-9c1e-a0b2df0984dc",
   "metadata": {},
   "outputs": [
    {
     "data": {
      "text/plain": [
       "array([[-0.00274855,  0.23469026, -0.72431399,  1.59018136,  0.83729085],\n",
       "       [-0.0786606 , -0.33925629, -1.17724203, -0.59660698, -0.09961309]])"
      ]
     },
     "execution_count": 43,
     "metadata": {},
     "output_type": "execute_result"
    }
   ],
   "source": [
    "np.random.randn(2, 5)"
   ]
  },
  {
   "cell_type": "code",
   "execution_count": 45,
   "id": "7fbd8ae4-83c5-409c-9bb9-decde7fe71ad",
   "metadata": {},
   "outputs": [
    {
     "data": {
      "text/plain": [
       "array([0.62505116, 0.52449732, 0.20011453, 0.27431176])"
      ]
     },
     "execution_count": 45,
     "metadata": {},
     "output_type": "execute_result"
    }
   ],
   "source": [
    "np.random.rand(4)"
   ]
  },
  {
   "cell_type": "code",
   "execution_count": 59,
   "id": "29a4f4d4-ad5e-4f39-9f5d-f2de4193801d",
   "metadata": {},
   "outputs": [
    {
     "data": {
      "text/plain": [
       "array([93,  8, 37, 16, 14, 52, 33, 82, 65, 54])"
      ]
     },
     "execution_count": 59,
     "metadata": {},
     "output_type": "execute_result"
    }
   ],
   "source": [
    "np.random.randint(5, 100, 10)"
   ]
  },
  {
   "cell_type": "code",
   "execution_count": 63,
   "id": "49fbe220-c214-4101-a2ee-7104ee7b4628",
   "metadata": {},
   "outputs": [],
   "source": [
    "arr = np.random.randint(5, 100, 24)"
   ]
  },
  {
   "cell_type": "code",
   "execution_count": 65,
   "id": "a9fa744d-8e31-4244-900c-4bcd6c1526ca",
   "metadata": {},
   "outputs": [
    {
     "data": {
      "text/plain": [
       "array([[66, 74, 49],\n",
       "       [74, 23, 66],\n",
       "       [33,  9, 33],\n",
       "       [12, 94, 61],\n",
       "       [11, 48, 60],\n",
       "       [20, 55, 20],\n",
       "       [91, 71, 63],\n",
       "       [53, 13, 69]])"
      ]
     },
     "execution_count": 65,
     "metadata": {},
     "output_type": "execute_result"
    }
   ],
   "source": [
    "arr.reshape(8,3)"
   ]
  },
  {
   "cell_type": "code",
   "execution_count": 67,
   "id": "55df8bef-1f89-40f1-a476-b0da4fee838a",
   "metadata": {},
   "outputs": [
    {
     "data": {
      "text/plain": [
       "array([66, 74, 49, 74, 23, 66, 33,  9, 33, 12, 94, 61, 11, 48, 60, 20, 55,\n",
       "       20, 91, 71, 63, 53, 13, 69])"
      ]
     },
     "execution_count": 67,
     "metadata": {},
     "output_type": "execute_result"
    }
   ],
   "source": [
    "arr"
   ]
  },
  {
   "cell_type": "code",
   "execution_count": 69,
   "id": "0a2875e4-4e5e-4a1c-a079-9a384cff3827",
   "metadata": {},
   "outputs": [
    {
     "data": {
      "text/plain": [
       "array([[66, 74, 49, 74],\n",
       "       [23, 66, 33,  9],\n",
       "       [33, 12, 94, 61],\n",
       "       [11, 48, 60, 20],\n",
       "       [55, 20, 91, 71],\n",
       "       [63, 53, 13, 69]])"
      ]
     },
     "execution_count": 69,
     "metadata": {},
     "output_type": "execute_result"
    }
   ],
   "source": [
    "arr.reshape(6,4)"
   ]
  },
  {
   "cell_type": "code",
   "execution_count": 71,
   "id": "ed4c740d-cee8-48f6-9aed-f456c664f665",
   "metadata": {},
   "outputs": [
    {
     "data": {
      "text/plain": [
       "94"
      ]
     },
     "execution_count": 71,
     "metadata": {},
     "output_type": "execute_result"
    }
   ],
   "source": [
    "arr.max()"
   ]
  },
  {
   "cell_type": "code",
   "execution_count": 73,
   "id": "052c5615-c248-43b7-a054-0b9661e879cf",
   "metadata": {},
   "outputs": [
    {
     "data": {
      "text/plain": [
       "9"
      ]
     },
     "execution_count": 73,
     "metadata": {},
     "output_type": "execute_result"
    }
   ],
   "source": [
    "arr.min()"
   ]
  },
  {
   "cell_type": "code",
   "execution_count": 75,
   "id": "e4a8b05d-63dd-4cf1-8f01-388af0fa730b",
   "metadata": {},
   "outputs": [
    {
     "data": {
      "text/plain": [
       "48.666666666666664"
      ]
     },
     "execution_count": 75,
     "metadata": {},
     "output_type": "execute_result"
    }
   ],
   "source": [
    "arr.mean()"
   ]
  },
  {
   "cell_type": "code",
   "execution_count": 79,
   "id": "8c87d19b-f0a3-4355-b3ca-829825bc5ffc",
   "metadata": {},
   "outputs": [
    {
     "data": {
      "text/plain": [
       "10"
      ]
     },
     "execution_count": 79,
     "metadata": {},
     "output_type": "execute_result"
    }
   ],
   "source": [
    "arr.argmax()"
   ]
  },
  {
   "cell_type": "code",
   "execution_count": 81,
   "id": "acfc4fdd-e9b0-4099-a5db-c77757e82e5a",
   "metadata": {},
   "outputs": [
    {
     "data": {
      "text/plain": [
       "7"
      ]
     },
     "execution_count": 81,
     "metadata": {},
     "output_type": "execute_result"
    }
   ],
   "source": [
    "arr.argmin()"
   ]
  },
  {
   "cell_type": "code",
   "execution_count": 83,
   "id": "04752032-5b73-43a1-a88f-b79775ef7ec1",
   "metadata": {},
   "outputs": [
    {
     "data": {
      "text/plain": [
       "dtype('int32')"
      ]
     },
     "execution_count": 83,
     "metadata": {},
     "output_type": "execute_result"
    }
   ],
   "source": [
    "arr.dtype"
   ]
  },
  {
   "cell_type": "markdown",
   "id": "3cf99ccd-dc86-4228-b692-d3194158bc38",
   "metadata": {},
   "source": [
    "## Indexing and Selection"
   ]
  },
  {
   "cell_type": "code",
   "execution_count": 116,
   "id": "ead25e06-ebc9-46c1-9fe4-1769f8b37763",
   "metadata": {},
   "outputs": [],
   "source": [
    "arr = np.arange(0, 100)"
   ]
  },
  {
   "cell_type": "code",
   "execution_count": 118,
   "id": "71ddd392-39dd-4490-8b8d-9351b7d34a42",
   "metadata": {},
   "outputs": [
    {
     "data": {
      "text/plain": [
       "8"
      ]
     },
     "execution_count": 118,
     "metadata": {},
     "output_type": "execute_result"
    }
   ],
   "source": [
    "arr[8]"
   ]
  },
  {
   "cell_type": "code",
   "execution_count": 120,
   "id": "52ae00e8-43c9-48d6-a751-6b9433634cd7",
   "metadata": {},
   "outputs": [
    {
     "data": {
      "text/plain": [
       "array([ 1,  2,  3,  4,  5,  6,  7,  8,  9, 10, 11, 12, 13, 14, 15, 16, 17,\n",
       "       18, 19, 20, 21, 22, 23, 24, 25, 26, 27, 28, 29, 30, 31, 32, 33, 34,\n",
       "       35, 36, 37, 38, 39, 40, 41, 42, 43, 44, 45, 46, 47, 48, 49, 50, 51,\n",
       "       52, 53, 54, 55, 56, 57, 58, 59, 60, 61, 62, 63, 64, 65, 66, 67, 68,\n",
       "       69, 70, 71, 72, 73, 74, 75, 76, 77, 78, 79, 80, 81, 82, 83, 84, 85,\n",
       "       86, 87, 88, 89, 90, 91, 92, 93, 94, 95, 96, 97, 98, 99])"
      ]
     },
     "execution_count": 120,
     "metadata": {},
     "output_type": "execute_result"
    }
   ],
   "source": [
    "arr[1:]"
   ]
  },
  {
   "cell_type": "code",
   "execution_count": 122,
   "id": "8b9f5ae8-6259-451f-ba59-e6755c1deec4",
   "metadata": {},
   "outputs": [
    {
     "data": {
      "text/plain": [
       "array([1, 2, 3, 4])"
      ]
     },
     "execution_count": 122,
     "metadata": {},
     "output_type": "execute_result"
    }
   ],
   "source": [
    "arr[1:5]"
   ]
  },
  {
   "cell_type": "code",
   "execution_count": 124,
   "id": "6025a6ad-f350-435c-bf74-3e6d0a552c00",
   "metadata": {},
   "outputs": [
    {
     "data": {
      "text/plain": [
       "array([0, 1, 2, 3, 4, 5])"
      ]
     },
     "execution_count": 124,
     "metadata": {},
     "output_type": "execute_result"
    }
   ],
   "source": [
    "arr[:6]"
   ]
  },
  {
   "cell_type": "code",
   "execution_count": 126,
   "id": "0e1459bb-e4d1-400b-a3dc-c9eeb8ad90eb",
   "metadata": {},
   "outputs": [
    {
     "data": {
      "text/plain": [
       "array([ 5,  6,  7,  8,  9, 10, 11, 12, 13, 14, 15, 16, 17, 18, 19, 20, 21,\n",
       "       22, 23, 24, 25, 26, 27, 28, 29, 30, 31, 32, 33, 34, 35, 36, 37, 38,\n",
       "       39, 40, 41, 42, 43, 44, 45, 46, 47, 48, 49, 50, 51, 52, 53, 54, 55,\n",
       "       56, 57, 58, 59, 60, 61, 62, 63, 64, 65, 66, 67, 68, 69, 70, 71, 72,\n",
       "       73, 74, 75, 76, 77, 78, 79, 80, 81, 82, 83, 84, 85, 86, 87, 88, 89,\n",
       "       90, 91, 92, 93, 94, 95, 96, 97, 98, 99])"
      ]
     },
     "execution_count": 126,
     "metadata": {},
     "output_type": "execute_result"
    }
   ],
   "source": [
    "arr[5:]"
   ]
  },
  {
   "cell_type": "code",
   "execution_count": 128,
   "id": "fecd94f9-1f56-4632-b5bb-d8934364b4a8",
   "metadata": {},
   "outputs": [
    {
     "data": {
      "text/plain": [
       "(100,)"
      ]
     },
     "execution_count": 128,
     "metadata": {},
     "output_type": "execute_result"
    }
   ],
   "source": [
    "arr.shape"
   ]
  },
  {
   "cell_type": "code",
   "execution_count": 136,
   "id": "3d906096-7cca-434a-b860-bd7c741a470d",
   "metadata": {},
   "outputs": [
    {
     "data": {
      "text/plain": [
       "array([ 0,  2,  4,  6,  8, 10, 12, 14, 16, 18, 20, 22, 24, 26, 28, 30, 32,\n",
       "       34, 36, 38, 40, 42, 44, 46, 48, 50, 52, 54, 56, 58, 60, 62, 64, 66,\n",
       "       68, 70, 72, 74, 76, 78, 80, 82, 84, 86, 88, 90, 92, 94, 96, 98])"
      ]
     },
     "execution_count": 136,
     "metadata": {},
     "output_type": "execute_result"
    }
   ],
   "source": [
    "arr[::2]"
   ]
  },
  {
   "cell_type": "code",
   "execution_count": 140,
   "id": "5c5ba7e3-fb44-426a-8fed-e8e60dd3fab4",
   "metadata": {},
   "outputs": [
    {
     "data": {
      "text/plain": [
       "array([0, 2, 4])"
      ]
     },
     "execution_count": 140,
     "metadata": {},
     "output_type": "execute_result"
    }
   ],
   "source": [
    "arr[:6:2]"
   ]
  },
  {
   "cell_type": "code",
   "execution_count": 142,
   "id": "573187b0-e4df-4ce0-9ae1-2d6217d3a66f",
   "metadata": {},
   "outputs": [],
   "source": [
    "arr2 = arr.copy()"
   ]
  },
  {
   "cell_type": "code",
   "execution_count": 144,
   "id": "d9c48e2f-ca3d-40c6-801a-84a0e48c2b11",
   "metadata": {},
   "outputs": [],
   "source": [
    "arr[5] = 9999"
   ]
  },
  {
   "cell_type": "code",
   "execution_count": 146,
   "id": "1cea36bd-7f58-4166-a399-0fa06a014546",
   "metadata": {},
   "outputs": [
    {
     "data": {
      "text/plain": [
       "5"
      ]
     },
     "execution_count": 146,
     "metadata": {},
     "output_type": "execute_result"
    }
   ],
   "source": [
    "arr2[5]"
   ]
  },
  {
   "cell_type": "code",
   "execution_count": 148,
   "id": "626b5d2f-1b74-4879-8765-998186f970a2",
   "metadata": {},
   "outputs": [
    {
     "data": {
      "text/plain": [
       "9999"
      ]
     },
     "execution_count": 148,
     "metadata": {},
     "output_type": "execute_result"
    }
   ],
   "source": [
    "arr[5]"
   ]
  },
  {
   "cell_type": "code",
   "execution_count": 150,
   "id": "8d6fd313-4cf2-4614-8638-7718d8075fb1",
   "metadata": {},
   "outputs": [],
   "source": [
    "arr = arr.reshape(4, 25)"
   ]
  },
  {
   "cell_type": "code",
   "execution_count": 152,
   "id": "ef02b282-c5cf-4444-87e5-df8ac9c27c26",
   "metadata": {},
   "outputs": [
    {
     "data": {
      "text/plain": [
       "array([[   0,    1,    2,    3,    4, 9999,    6,    7,    8,    9,   10,\n",
       "          11,   12,   13,   14,   15,   16,   17,   18,   19,   20,   21,\n",
       "          22,   23,   24],\n",
       "       [  25,   26,   27,   28,   29,   30,   31,   32,   33,   34,   35,\n",
       "          36,   37,   38,   39,   40,   41,   42,   43,   44,   45,   46,\n",
       "          47,   48,   49],\n",
       "       [  50,   51,   52,   53,   54,   55,   56,   57,   58,   59,   60,\n",
       "          61,   62,   63,   64,   65,   66,   67,   68,   69,   70,   71,\n",
       "          72,   73,   74],\n",
       "       [  75,   76,   77,   78,   79,   80,   81,   82,   83,   84,   85,\n",
       "          86,   87,   88,   89,   90,   91,   92,   93,   94,   95,   96,\n",
       "          97,   98,   99]])"
      ]
     },
     "execution_count": 152,
     "metadata": {},
     "output_type": "execute_result"
    }
   ],
   "source": [
    "arr"
   ]
  },
  {
   "cell_type": "code",
   "execution_count": 154,
   "id": "a14f53e8-9b12-424f-93a2-3313f83d2979",
   "metadata": {},
   "outputs": [
    {
     "data": {
      "text/plain": [
       "array([[25, 26, 27, 28, 29, 30, 31, 32, 33, 34, 35, 36, 37, 38, 39, 40,\n",
       "        41, 42, 43, 44, 45, 46, 47, 48, 49],\n",
       "       [50, 51, 52, 53, 54, 55, 56, 57, 58, 59, 60, 61, 62, 63, 64, 65,\n",
       "        66, 67, 68, 69, 70, 71, 72, 73, 74],\n",
       "       [75, 76, 77, 78, 79, 80, 81, 82, 83, 84, 85, 86, 87, 88, 89, 90,\n",
       "        91, 92, 93, 94, 95, 96, 97, 98, 99]])"
      ]
     },
     "execution_count": 154,
     "metadata": {},
     "output_type": "execute_result"
    }
   ],
   "source": [
    "arr[1:]"
   ]
  },
  {
   "cell_type": "code",
   "execution_count": 156,
   "id": "f96b6124-8bce-4e47-ab88-41fc3f394ac3",
   "metadata": {},
   "outputs": [
    {
     "data": {
      "text/plain": [
       "array([[25, 26, 27, 28, 29, 30, 31, 32, 33, 34, 35, 36, 37, 38, 39, 40,\n",
       "        41, 42, 43, 44, 45, 46, 47, 48, 49],\n",
       "       [50, 51, 52, 53, 54, 55, 56, 57, 58, 59, 60, 61, 62, 63, 64, 65,\n",
       "        66, 67, 68, 69, 70, 71, 72, 73, 74]])"
      ]
     },
     "execution_count": 156,
     "metadata": {},
     "output_type": "execute_result"
    }
   ],
   "source": [
    "arr[1:3]"
   ]
  },
  {
   "cell_type": "code",
   "execution_count": 158,
   "id": "7a74b376-de14-4f77-b147-f2f7971ed1e2",
   "metadata": {},
   "outputs": [
    {
     "data": {
      "text/plain": [
       "array([[25, 26, 27, 28, 29, 30, 31, 32, 33, 34, 35, 36, 37, 38, 39, 40,\n",
       "        41, 42, 43, 44, 45, 46, 47, 48, 49]])"
      ]
     },
     "execution_count": 158,
     "metadata": {},
     "output_type": "execute_result"
    }
   ],
   "source": [
    "arr[1:3:2]"
   ]
  },
  {
   "cell_type": "code",
   "execution_count": 168,
   "id": "47c1f317-ff8d-41fb-a904-cd88774f418c",
   "metadata": {},
   "outputs": [
    {
     "data": {
      "text/plain": [
       "array([[25, 26, 27, 28, 29, 30, 31, 32, 33, 34, 35, 36, 37, 38, 39, 40,\n",
       "        41, 42, 43, 44, 45, 46, 47, 48, 49],\n",
       "       [50, 51, 52, 53, 54, 55, 56, 57, 58, 59, 60, 61, 62, 63, 64, 65,\n",
       "        66, 67, 68, 69, 70, 71, 72, 73, 74]])"
      ]
     },
     "execution_count": 168,
     "metadata": {},
     "output_type": "execute_result"
    }
   ],
   "source": [
    "arr[1:3]"
   ]
  },
  {
   "cell_type": "code",
   "execution_count": 174,
   "id": "20749884-1337-4c1c-beb9-1f5ce04ba302",
   "metadata": {},
   "outputs": [
    {
     "data": {
      "text/plain": [
       "array([[25, 26, 27, 28, 29, 30, 31, 32, 33, 34, 35, 36, 37, 38, 39, 40,\n",
       "        41, 42, 43, 44, 45, 46, 47, 48, 49],\n",
       "       [50, 51, 52, 53, 54, 55, 56, 57, 58, 59, 60, 61, 62, 63, 64, 65,\n",
       "        66, 67, 68, 69, 70, 71, 72, 73, 74],\n",
       "       [75, 76, 77, 78, 79, 80, 81, 82, 83, 84, 85, 86, 87, 88, 89, 90,\n",
       "        91, 92, 93, 94, 95, 96, 97, 98, 99]])"
      ]
     },
     "execution_count": 174,
     "metadata": {},
     "output_type": "execute_result"
    }
   ],
   "source": [
    "arr[1:4]"
   ]
  },
  {
   "cell_type": "code",
   "execution_count": 176,
   "id": "c831dc8b-5923-49ca-bfec-05dc90a91a73",
   "metadata": {},
   "outputs": [
    {
     "data": {
      "text/plain": [
       "array([   0,    1,    2,    3,    4, 9999,    6,    7,    8,    9,   10,\n",
       "         11,   12,   13,   14,   15,   16,   17,   18,   19,   20,   21,\n",
       "         22,   23,   24,   25,   26,   27,   28,   29,   30,   31,   32,\n",
       "         33,   34,   35,   36,   37,   38,   39,   40,   41,   42,   43,\n",
       "         44,   45,   46,   47,   48,   49,   50,   51,   52,   53,   54,\n",
       "         55,   56,   57,   58,   59,   60,   61,   62,   63,   64,   65,\n",
       "         66,   67,   68,   69,   70,   71,   72,   73,   74,   75,   76,\n",
       "         77,   78,   79,   80,   81,   82,   83,   84,   85,   86,   87,\n",
       "         88,   89,   90,   91,   92,   93,   94,   95,   96,   97,   98,\n",
       "         99])"
      ]
     },
     "execution_count": 176,
     "metadata": {},
     "output_type": "execute_result"
    }
   ],
   "source": [
    "arr.reshape(-1)"
   ]
  },
  {
   "cell_type": "code",
   "execution_count": 178,
   "id": "44377055-5474-497f-a496-b69647d85925",
   "metadata": {},
   "outputs": [],
   "source": [
    "arr = arr.reshape(-1)"
   ]
  },
  {
   "cell_type": "code",
   "execution_count": 180,
   "id": "cef2d055-ed5c-48a9-bcb3-ef5fed4f1727",
   "metadata": {},
   "outputs": [
    {
     "data": {
      "text/plain": [
       "array([   0,    1,    2,    3,    4, 9999,    6,    7,    8,    9,   10,\n",
       "         11,   12,   13,   14,   15,   16,   17,   18,   19,   20,   21,\n",
       "         22,   23,   24,   25,   26,   27,   28,   29,   30,   31,   32,\n",
       "         33,   34,   35,   36,   37,   38,   39,   40,   41,   42,   43,\n",
       "         44,   45,   46,   47,   48,   49,   50,   51,   52,   53,   54,\n",
       "         55,   56,   57,   58,   59,   60,   61,   62,   63,   64,   65,\n",
       "         66,   67,   68,   69,   70,   71,   72,   73,   74,   75,   76,\n",
       "         77,   78,   79,   80,   81,   82,   83,   84,   85,   86,   87,\n",
       "         88,   89,   90,   91,   92,   93,   94,   95,   96,   97,   98,\n",
       "         99])"
      ]
     },
     "execution_count": 180,
     "metadata": {},
     "output_type": "execute_result"
    }
   ],
   "source": [
    "arr"
   ]
  },
  {
   "cell_type": "code",
   "execution_count": 182,
   "id": "d25fd0d4-c61e-4a39-b3be-7e506bb37a59",
   "metadata": {},
   "outputs": [
    {
     "data": {
      "text/plain": [
       "array([   0,    1,    2,    3,    4, 9999,    6,    7,    8,    9,   10,\n",
       "         11,   12,   13,   14,   15,   16,   17,   18,   19,   20,   21,\n",
       "         22,   23,   24,   25,   26,   27,   28,   29,   30,   31,   32,\n",
       "         33,   34,   35,   36,   37,   38,   39,   40,   41,   42,   43,\n",
       "         44,   45,   46,   47,   48,   49,   50,   51,   52,   53,   54,\n",
       "         55,   56,   57,   58,   59,   60,   61,   62,   63,   64,   65,\n",
       "         66,   67,   68,   69,   70,   71,   72,   73,   74,   75,   76,\n",
       "         77,   78,   79,   80,   81,   82,   83,   84,   85,   86,   87,\n",
       "         88,   89,   90,   91,   92,   93,   94,   95,   96,   97])"
      ]
     },
     "execution_count": 182,
     "metadata": {},
     "output_type": "execute_result"
    }
   ],
   "source": [
    "arr[:-2]"
   ]
  },
  {
   "cell_type": "code",
   "execution_count": 184,
   "id": "524385d7-49dc-4b50-b189-0e2df8d24de5",
   "metadata": {},
   "outputs": [
    {
     "data": {
      "text/plain": [
       "array([95, 96, 97])"
      ]
     },
     "execution_count": 184,
     "metadata": {},
     "output_type": "execute_result"
    }
   ],
   "source": [
    "arr[-5:-2]"
   ]
  },
  {
   "cell_type": "code",
   "execution_count": 194,
   "id": "1f4d96a0-ceec-4d60-83d8-c3fe6c9ebb03",
   "metadata": {},
   "outputs": [
    {
     "data": {
      "text/plain": [
       "array([90, 92, 94, 96])"
      ]
     },
     "execution_count": 194,
     "metadata": {},
     "output_type": "execute_result"
    }
   ],
   "source": [
    "arr[-10:-2:2]"
   ]
  },
  {
   "cell_type": "code",
   "execution_count": 198,
   "id": "ac93ba13-4642-4fb0-b217-0e66c4494389",
   "metadata": {},
   "outputs": [
    {
     "data": {
      "text/plain": [
       "array([ True, False, False,  True, False,  True,  True, False, False,\n",
       "        True, False, False,  True, False, False,  True, False, False,\n",
       "        True, False, False,  True, False, False,  True, False, False,\n",
       "        True, False, False,  True, False, False,  True, False, False,\n",
       "        True, False, False,  True, False, False,  True, False, False,\n",
       "        True, False, False,  True, False, False,  True, False, False,\n",
       "        True, False, False,  True, False, False,  True, False, False,\n",
       "        True, False, False,  True, False, False,  True, False, False,\n",
       "        True, False, False,  True, False, False,  True, False, False,\n",
       "        True, False, False,  True, False, False,  True, False, False,\n",
       "        True, False, False,  True, False, False,  True, False, False,\n",
       "        True])"
      ]
     },
     "execution_count": 198,
     "metadata": {},
     "output_type": "execute_result"
    }
   ],
   "source": [
    "arr % 3 == 0"
   ]
  },
  {
   "cell_type": "code",
   "execution_count": 200,
   "id": "71615b95-87f1-44a7-980e-0fe643f58859",
   "metadata": {},
   "outputs": [
    {
     "data": {
      "text/plain": [
       "array([   0,    3, 9999,    6,    9,   12,   15,   18,   21,   24,   27,\n",
       "         30,   33,   36,   39,   42,   45,   48,   51,   54,   57,   60,\n",
       "         63,   66,   69,   72,   75,   78,   81,   84,   87,   90,   93,\n",
       "         96,   99])"
      ]
     },
     "execution_count": 200,
     "metadata": {},
     "output_type": "execute_result"
    }
   ],
   "source": [
    "arr[arr % 3 == 0]"
   ]
  },
  {
   "cell_type": "code",
   "execution_count": 202,
   "id": "7e9615d0-a466-47cd-a249-cdc2663b7bce",
   "metadata": {},
   "outputs": [
    {
     "data": {
      "text/plain": [
       "array([9999,    9,   10,   11,   12,   13,   14,   15,   16,   17,   18,\n",
       "         19,   20,   21,   22,   23,   24,   25,   26,   27,   28,   29,\n",
       "         30,   31,   32,   33,   34,   35,   36,   37,   38,   39,   40,\n",
       "         41,   42,   43,   44,   45,   46,   47,   48,   49,   50,   51,\n",
       "         52,   53,   54,   55,   56,   57,   58,   59,   60,   61,   62,\n",
       "         63,   64,   65,   66,   67,   68,   69,   70,   71,   72,   73,\n",
       "         74,   75,   76,   77,   78,   79,   80,   81,   82,   83,   84,\n",
       "         85,   86,   87,   88,   89,   90,   91,   92,   93,   94,   95,\n",
       "         96,   97,   98,   99])"
      ]
     },
     "execution_count": 202,
     "metadata": {},
     "output_type": "execute_result"
    }
   ],
   "source": [
    "arr[arr > 8]"
   ]
  },
  {
   "cell_type": "markdown",
   "id": "f54ab5aa-7647-4857-86fb-3e94037178a7",
   "metadata": {},
   "source": [
    "## Operations"
   ]
  },
  {
   "cell_type": "code",
   "execution_count": 207,
   "id": "66873463-2e04-4020-8e5d-f21c3a003172",
   "metadata": {},
   "outputs": [],
   "source": [
    "arr = arr.reshape(-1)"
   ]
  },
  {
   "cell_type": "code",
   "execution_count": 209,
   "id": "cedcfd0d-b9cd-4d4d-8816-96ef00c8ef9f",
   "metadata": {},
   "outputs": [
    {
     "data": {
      "text/plain": [
       "array([   0,    1,    2,    3,    4, 9999,    6,    7,    8,    9,   10,\n",
       "         11,   12,   13,   14,   15,   16,   17,   18,   19,   20,   21,\n",
       "         22,   23,   24,   25,   26,   27,   28,   29,   30,   31,   32,\n",
       "         33,   34,   35,   36,   37,   38,   39,   40,   41,   42,   43,\n",
       "         44,   45,   46,   47,   48,   49,   50,   51,   52,   53,   54,\n",
       "         55,   56,   57,   58,   59,   60,   61,   62,   63,   64,   65,\n",
       "         66,   67,   68,   69,   70,   71,   72,   73,   74,   75,   76,\n",
       "         77,   78,   79,   80,   81,   82,   83,   84,   85,   86,   87,\n",
       "         88,   89,   90,   91,   92,   93,   94,   95,   96,   97,   98,\n",
       "         99])"
      ]
     },
     "execution_count": 209,
     "metadata": {},
     "output_type": "execute_result"
    }
   ],
   "source": [
    "arr"
   ]
  },
  {
   "cell_type": "code",
   "execution_count": 211,
   "id": "2eee73d6-e2a9-4811-82e8-180191b54459",
   "metadata": {},
   "outputs": [
    {
     "data": {
      "text/plain": [
       "array([    0,     2,     4,     6,     8, 19998,    12,    14,    16,\n",
       "          18,    20,    22,    24,    26,    28,    30,    32,    34,\n",
       "          36,    38,    40,    42,    44,    46,    48,    50,    52,\n",
       "          54,    56,    58,    60,    62,    64,    66,    68,    70,\n",
       "          72,    74,    76,    78,    80,    82,    84,    86,    88,\n",
       "          90,    92,    94,    96,    98,   100,   102,   104,   106,\n",
       "         108,   110,   112,   114,   116,   118,   120,   122,   124,\n",
       "         126,   128,   130,   132,   134,   136,   138,   140,   142,\n",
       "         144,   146,   148,   150,   152,   154,   156,   158,   160,\n",
       "         162,   164,   166,   168,   170,   172,   174,   176,   178,\n",
       "         180,   182,   184,   186,   188,   190,   192,   194,   196,\n",
       "         198])"
      ]
     },
     "execution_count": 211,
     "metadata": {},
     "output_type": "execute_result"
    }
   ],
   "source": [
    "arr + arr"
   ]
  },
  {
   "cell_type": "code",
   "execution_count": 213,
   "id": "6b2fc3fd-6bdf-4a9d-a3a0-50ff457ba1f8",
   "metadata": {},
   "outputs": [
    {
     "data": {
      "text/plain": [
       "array([0, 0, 0, 0, 0, 0, 0, 0, 0, 0, 0, 0, 0, 0, 0, 0, 0, 0, 0, 0, 0, 0,\n",
       "       0, 0, 0, 0, 0, 0, 0, 0, 0, 0, 0, 0, 0, 0, 0, 0, 0, 0, 0, 0, 0, 0,\n",
       "       0, 0, 0, 0, 0, 0, 0, 0, 0, 0, 0, 0, 0, 0, 0, 0, 0, 0, 0, 0, 0, 0,\n",
       "       0, 0, 0, 0, 0, 0, 0, 0, 0, 0, 0, 0, 0, 0, 0, 0, 0, 0, 0, 0, 0, 0,\n",
       "       0, 0, 0, 0, 0, 0, 0, 0, 0, 0, 0, 0])"
      ]
     },
     "execution_count": 213,
     "metadata": {},
     "output_type": "execute_result"
    }
   ],
   "source": [
    "arr - arr"
   ]
  },
  {
   "cell_type": "code",
   "execution_count": 215,
   "id": "ac942569-81a3-4bb5-b98f-ea3c6d52fd34",
   "metadata": {},
   "outputs": [
    {
     "data": {
      "text/plain": [
       "array([       0,        1,        4,        9,       16, 99980001,\n",
       "             36,       49,       64,       81,      100,      121,\n",
       "            144,      169,      196,      225,      256,      289,\n",
       "            324,      361,      400,      441,      484,      529,\n",
       "            576,      625,      676,      729,      784,      841,\n",
       "            900,      961,     1024,     1089,     1156,     1225,\n",
       "           1296,     1369,     1444,     1521,     1600,     1681,\n",
       "           1764,     1849,     1936,     2025,     2116,     2209,\n",
       "           2304,     2401,     2500,     2601,     2704,     2809,\n",
       "           2916,     3025,     3136,     3249,     3364,     3481,\n",
       "           3600,     3721,     3844,     3969,     4096,     4225,\n",
       "           4356,     4489,     4624,     4761,     4900,     5041,\n",
       "           5184,     5329,     5476,     5625,     5776,     5929,\n",
       "           6084,     6241,     6400,     6561,     6724,     6889,\n",
       "           7056,     7225,     7396,     7569,     7744,     7921,\n",
       "           8100,     8281,     8464,     8649,     8836,     9025,\n",
       "           9216,     9409,     9604,     9801])"
      ]
     },
     "execution_count": 215,
     "metadata": {},
     "output_type": "execute_result"
    }
   ],
   "source": [
    "arr * arr"
   ]
  },
  {
   "cell_type": "code",
   "execution_count": 217,
   "id": "17170c76-5d5a-43f7-bd06-73c0ef856a86",
   "metadata": {},
   "outputs": [
    {
     "data": {
      "text/plain": [
       "array([    0,     2,     4,     6,     8, 19998,    12,    14,    16,\n",
       "          18,    20,    22,    24,    26,    28,    30,    32,    34,\n",
       "          36,    38,    40,    42,    44,    46,    48,    50,    52,\n",
       "          54,    56,    58,    60,    62,    64,    66,    68,    70,\n",
       "          72,    74,    76,    78,    80,    82,    84,    86,    88,\n",
       "          90,    92,    94,    96,    98,   100,   102,   104,   106,\n",
       "         108,   110,   112,   114,   116,   118,   120,   122,   124,\n",
       "         126,   128,   130,   132,   134,   136,   138,   140,   142,\n",
       "         144,   146,   148,   150,   152,   154,   156,   158,   160,\n",
       "         162,   164,   166,   168,   170,   172,   174,   176,   178,\n",
       "         180,   182,   184,   186,   188,   190,   192,   194,   196,\n",
       "         198])"
      ]
     },
     "execution_count": 217,
     "metadata": {},
     "output_type": "execute_result"
    }
   ],
   "source": [
    "arr * 2"
   ]
  },
  {
   "cell_type": "code",
   "execution_count": 219,
   "id": "39423a7f-3a08-4186-a9f7-237d74f4b187",
   "metadata": {},
   "outputs": [
    {
     "data": {
      "text/plain": [
       "array([0.0000e+00, 4.0000e-02, 8.0000e-02, 1.2000e-01, 1.6000e-01,\n",
       "       3.9996e+02, 2.4000e-01, 2.8000e-01, 3.2000e-01, 3.6000e-01,\n",
       "       4.0000e-01, 4.4000e-01, 4.8000e-01, 5.2000e-01, 5.6000e-01,\n",
       "       6.0000e-01, 6.4000e-01, 6.8000e-01, 7.2000e-01, 7.6000e-01,\n",
       "       8.0000e-01, 8.4000e-01, 8.8000e-01, 9.2000e-01, 9.6000e-01,\n",
       "       1.0000e+00, 1.0400e+00, 1.0800e+00, 1.1200e+00, 1.1600e+00,\n",
       "       1.2000e+00, 1.2400e+00, 1.2800e+00, 1.3200e+00, 1.3600e+00,\n",
       "       1.4000e+00, 1.4400e+00, 1.4800e+00, 1.5200e+00, 1.5600e+00,\n",
       "       1.6000e+00, 1.6400e+00, 1.6800e+00, 1.7200e+00, 1.7600e+00,\n",
       "       1.8000e+00, 1.8400e+00, 1.8800e+00, 1.9200e+00, 1.9600e+00,\n",
       "       2.0000e+00, 2.0400e+00, 2.0800e+00, 2.1200e+00, 2.1600e+00,\n",
       "       2.2000e+00, 2.2400e+00, 2.2800e+00, 2.3200e+00, 2.3600e+00,\n",
       "       2.4000e+00, 2.4400e+00, 2.4800e+00, 2.5200e+00, 2.5600e+00,\n",
       "       2.6000e+00, 2.6400e+00, 2.6800e+00, 2.7200e+00, 2.7600e+00,\n",
       "       2.8000e+00, 2.8400e+00, 2.8800e+00, 2.9200e+00, 2.9600e+00,\n",
       "       3.0000e+00, 3.0400e+00, 3.0800e+00, 3.1200e+00, 3.1600e+00,\n",
       "       3.2000e+00, 3.2400e+00, 3.2800e+00, 3.3200e+00, 3.3600e+00,\n",
       "       3.4000e+00, 3.4400e+00, 3.4800e+00, 3.5200e+00, 3.5600e+00,\n",
       "       3.6000e+00, 3.6400e+00, 3.6800e+00, 3.7200e+00, 3.7600e+00,\n",
       "       3.8000e+00, 3.8400e+00, 3.8800e+00, 3.9200e+00, 3.9600e+00])"
      ]
     },
     "execution_count": 219,
     "metadata": {},
     "output_type": "execute_result"
    }
   ],
   "source": [
    "arr / 25\n"
   ]
  },
  {
   "cell_type": "code",
   "execution_count": 221,
   "id": "c5d9f414-9560-43e7-9699-61fb0995fb0a",
   "metadata": {},
   "outputs": [
    {
     "name": "stderr",
     "output_type": "stream",
     "text": [
      "C:\\Users\\vagad\\AppData\\Local\\Temp\\ipykernel_16340\\3001117470.py:1: RuntimeWarning: invalid value encountered in divide\n",
      "  arr / arr\n"
     ]
    },
    {
     "data": {
      "text/plain": [
       "array([nan,  1.,  1.,  1.,  1.,  1.,  1.,  1.,  1.,  1.,  1.,  1.,  1.,\n",
       "        1.,  1.,  1.,  1.,  1.,  1.,  1.,  1.,  1.,  1.,  1.,  1.,  1.,\n",
       "        1.,  1.,  1.,  1.,  1.,  1.,  1.,  1.,  1.,  1.,  1.,  1.,  1.,\n",
       "        1.,  1.,  1.,  1.,  1.,  1.,  1.,  1.,  1.,  1.,  1.,  1.,  1.,\n",
       "        1.,  1.,  1.,  1.,  1.,  1.,  1.,  1.,  1.,  1.,  1.,  1.,  1.,\n",
       "        1.,  1.,  1.,  1.,  1.,  1.,  1.,  1.,  1.,  1.,  1.,  1.,  1.,\n",
       "        1.,  1.,  1.,  1.,  1.,  1.,  1.,  1.,  1.,  1.,  1.,  1.,  1.,\n",
       "        1.,  1.,  1.,  1.,  1.,  1.,  1.,  1.,  1.])"
      ]
     },
     "execution_count": 221,
     "metadata": {},
     "output_type": "execute_result"
    }
   ],
   "source": [
    "arr / arr"
   ]
  },
  {
   "cell_type": "code",
   "execution_count": 223,
   "id": "f3235be9-8a36-477a-a635-10c10c23417b",
   "metadata": {},
   "outputs": [
    {
     "data": {
      "text/plain": [
       "array([       0,        1,        4,        9,       16, 99980001,\n",
       "             36,       49,       64,       81,      100,      121,\n",
       "            144,      169,      196,      225,      256,      289,\n",
       "            324,      361,      400,      441,      484,      529,\n",
       "            576,      625,      676,      729,      784,      841,\n",
       "            900,      961,     1024,     1089,     1156,     1225,\n",
       "           1296,     1369,     1444,     1521,     1600,     1681,\n",
       "           1764,     1849,     1936,     2025,     2116,     2209,\n",
       "           2304,     2401,     2500,     2601,     2704,     2809,\n",
       "           2916,     3025,     3136,     3249,     3364,     3481,\n",
       "           3600,     3721,     3844,     3969,     4096,     4225,\n",
       "           4356,     4489,     4624,     4761,     4900,     5041,\n",
       "           5184,     5329,     5476,     5625,     5776,     5929,\n",
       "           6084,     6241,     6400,     6561,     6724,     6889,\n",
       "           7056,     7225,     7396,     7569,     7744,     7921,\n",
       "           8100,     8281,     8464,     8649,     8836,     9025,\n",
       "           9216,     9409,     9604,     9801])"
      ]
     },
     "execution_count": 223,
     "metadata": {},
     "output_type": "execute_result"
    }
   ],
   "source": [
    "arr ** 2"
   ]
  },
  {
   "cell_type": "code",
   "execution_count": 225,
   "id": "25c98561-1cec-4cc0-822b-059ec028adc5",
   "metadata": {},
   "outputs": [
    {
     "data": {
      "text/plain": [
       "array([ 0.        ,  1.        ,  1.41421356,  1.73205081,  2.        ,\n",
       "       99.99499987,  2.44948974,  2.64575131,  2.82842712,  3.        ,\n",
       "        3.16227766,  3.31662479,  3.46410162,  3.60555128,  3.74165739,\n",
       "        3.87298335,  4.        ,  4.12310563,  4.24264069,  4.35889894,\n",
       "        4.47213595,  4.58257569,  4.69041576,  4.79583152,  4.89897949,\n",
       "        5.        ,  5.09901951,  5.19615242,  5.29150262,  5.38516481,\n",
       "        5.47722558,  5.56776436,  5.65685425,  5.74456265,  5.83095189,\n",
       "        5.91607978,  6.        ,  6.08276253,  6.164414  ,  6.244998  ,\n",
       "        6.32455532,  6.40312424,  6.4807407 ,  6.55743852,  6.63324958,\n",
       "        6.70820393,  6.78232998,  6.8556546 ,  6.92820323,  7.        ,\n",
       "        7.07106781,  7.14142843,  7.21110255,  7.28010989,  7.34846923,\n",
       "        7.41619849,  7.48331477,  7.54983444,  7.61577311,  7.68114575,\n",
       "        7.74596669,  7.81024968,  7.87400787,  7.93725393,  8.        ,\n",
       "        8.06225775,  8.1240384 ,  8.18535277,  8.24621125,  8.30662386,\n",
       "        8.36660027,  8.42614977,  8.48528137,  8.54400375,  8.60232527,\n",
       "        8.66025404,  8.71779789,  8.77496439,  8.83176087,  8.88819442,\n",
       "        8.94427191,  9.        ,  9.05538514,  9.11043358,  9.16515139,\n",
       "        9.21954446,  9.2736185 ,  9.32737905,  9.38083152,  9.43398113,\n",
       "        9.48683298,  9.53939201,  9.59166305,  9.64365076,  9.69535971,\n",
       "        9.74679434,  9.79795897,  9.8488578 ,  9.89949494,  9.94987437])"
      ]
     },
     "execution_count": 225,
     "metadata": {},
     "output_type": "execute_result"
    }
   ],
   "source": [
    "np.sqrt(arr)"
   ]
  },
  {
   "cell_type": "code",
   "execution_count": 227,
   "id": "9d5f867b-424b-476e-9c52-623702728012",
   "metadata": {},
   "outputs": [
    {
     "name": "stderr",
     "output_type": "stream",
     "text": [
      "C:\\Users\\vagad\\AppData\\Local\\Temp\\ipykernel_16340\\3764917082.py:1: RuntimeWarning: overflow encountered in exp\n",
      "  np.exp(arr)\n"
     ]
    },
    {
     "data": {
      "text/plain": [
       "array([1.00000000e+00, 2.71828183e+00, 7.38905610e+00, 2.00855369e+01,\n",
       "       5.45981500e+01,            inf, 4.03428793e+02, 1.09663316e+03,\n",
       "       2.98095799e+03, 8.10308393e+03, 2.20264658e+04, 5.98741417e+04,\n",
       "       1.62754791e+05, 4.42413392e+05, 1.20260428e+06, 3.26901737e+06,\n",
       "       8.88611052e+06, 2.41549528e+07, 6.56599691e+07, 1.78482301e+08,\n",
       "       4.85165195e+08, 1.31881573e+09, 3.58491285e+09, 9.74480345e+09,\n",
       "       2.64891221e+10, 7.20048993e+10, 1.95729609e+11, 5.32048241e+11,\n",
       "       1.44625706e+12, 3.93133430e+12, 1.06864746e+13, 2.90488497e+13,\n",
       "       7.89629602e+13, 2.14643580e+14, 5.83461743e+14, 1.58601345e+15,\n",
       "       4.31123155e+15, 1.17191424e+16, 3.18559318e+16, 8.65934004e+16,\n",
       "       2.35385267e+17, 6.39843494e+17, 1.73927494e+18, 4.72783947e+18,\n",
       "       1.28516001e+19, 3.49342711e+19, 9.49611942e+19, 2.58131289e+20,\n",
       "       7.01673591e+20, 1.90734657e+21, 5.18470553e+21, 1.40934908e+22,\n",
       "       3.83100800e+22, 1.04137594e+23, 2.83075330e+23, 7.69478527e+23,\n",
       "       2.09165950e+24, 5.68572000e+24, 1.54553894e+25, 4.20121040e+25,\n",
       "       1.14200739e+26, 3.10429794e+26, 8.43835667e+26, 2.29378316e+27,\n",
       "       6.23514908e+27, 1.69488924e+28, 4.60718663e+28, 1.25236317e+29,\n",
       "       3.40427605e+29, 9.25378173e+29, 2.51543867e+30, 6.83767123e+30,\n",
       "       1.85867175e+31, 5.05239363e+31, 1.37338298e+32, 3.73324200e+32,\n",
       "       1.01480039e+33, 2.75851345e+33, 7.49841700e+33, 2.03828107e+34,\n",
       "       5.54062238e+34, 1.50609731e+35, 4.09399696e+35, 1.11286375e+36,\n",
       "       3.02507732e+36, 8.22301271e+36, 2.23524660e+37, 6.07603023e+37,\n",
       "       1.65163625e+38, 4.48961282e+38, 1.22040329e+39, 3.31740010e+39,\n",
       "       9.01762841e+39, 2.45124554e+40, 6.66317622e+40, 1.81123908e+41,\n",
       "       4.92345829e+41, 1.33833472e+42, 3.63797095e+42, 9.88903032e+42])"
      ]
     },
     "execution_count": 227,
     "metadata": {},
     "output_type": "execute_result"
    }
   ],
   "source": [
    "np.exp(arr)"
   ]
  },
  {
   "cell_type": "code",
   "execution_count": 229,
   "id": "1f96d917-1baf-4c3c-8c40-b525dd409376",
   "metadata": {},
   "outputs": [
    {
     "data": {
      "text/plain": [
       "array([ 0.        ,  0.84147098,  0.90929743,  0.14112001, -0.7568025 ,\n",
       "        0.63608696, -0.2794155 ,  0.6569866 ,  0.98935825,  0.41211849,\n",
       "       -0.54402111, -0.99999021, -0.53657292,  0.42016704,  0.99060736,\n",
       "        0.65028784, -0.28790332, -0.96139749, -0.75098725,  0.14987721,\n",
       "        0.91294525,  0.83665564, -0.00885131, -0.8462204 , -0.90557836,\n",
       "       -0.13235175,  0.76255845,  0.95637593,  0.27090579, -0.66363388,\n",
       "       -0.98803162, -0.40403765,  0.55142668,  0.99991186,  0.52908269,\n",
       "       -0.42818267, -0.99177885, -0.64353813,  0.29636858,  0.96379539,\n",
       "        0.74511316, -0.15862267, -0.91652155, -0.83177474,  0.01770193,\n",
       "        0.85090352,  0.90178835,  0.12357312, -0.76825466, -0.95375265,\n",
       "       -0.26237485,  0.67022918,  0.98662759,  0.39592515, -0.55878905,\n",
       "       -0.99975517, -0.521551  ,  0.43616476,  0.99287265,  0.63673801,\n",
       "       -0.30481062, -0.96611777, -0.7391807 ,  0.1673557 ,  0.92002604,\n",
       "        0.82682868, -0.02655115, -0.85551998, -0.89792768, -0.11478481,\n",
       "        0.77389068,  0.95105465,  0.25382336, -0.67677196, -0.98514626,\n",
       "       -0.38778164,  0.56610764,  0.99952016,  0.51397846, -0.44411267,\n",
       "       -0.99388865, -0.62988799,  0.31322878,  0.96836446,  0.73319032,\n",
       "       -0.17607562, -0.92345845, -0.82181784,  0.0353983 ,  0.86006941,\n",
       "        0.89399666,  0.10598751, -0.77946607, -0.94828214, -0.24525199,\n",
       "        0.68326171,  0.98358775,  0.37960774, -0.57338187, -0.99920683])"
      ]
     },
     "execution_count": 229,
     "metadata": {},
     "output_type": "execute_result"
    }
   ],
   "source": [
    "np.sin(arr)"
   ]
  },
  {
   "cell_type": "code",
   "execution_count": null,
   "id": "d8c7dd17-e5e0-49c3-9cd1-632a029668cb",
   "metadata": {},
   "outputs": [],
   "source": []
  }
 ],
 "metadata": {
  "kernelspec": {
   "display_name": "Python 3 (ipykernel)",
   "language": "python",
   "name": "python3"
  },
  "language_info": {
   "codemirror_mode": {
    "name": "ipython",
    "version": 3
   },
   "file_extension": ".py",
   "mimetype": "text/x-python",
   "name": "python",
   "nbconvert_exporter": "python",
   "pygments_lexer": "ipython3",
   "version": "3.12.4"
  }
 },
 "nbformat": 4,
 "nbformat_minor": 5
}
